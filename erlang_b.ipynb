{
 "metadata": {
  "language_info": {
   "codemirror_mode": {
    "name": "ipython",
    "version": 3
   },
   "file_extension": ".py",
   "mimetype": "text/x-python",
   "name": "python",
   "nbconvert_exporter": "python",
   "pygments_lexer": "ipython3",
   "version": "3.8.6-final"
  },
  "orig_nbformat": 2,
  "kernelspec": {
   "name": "python3",
   "display_name": "Python 3",
   "language": "python"
  }
 },
 "nbformat": 4,
 "nbformat_minor": 2,
 "cells": [
  {
   "cell_type": "code",
   "execution_count": null,
   "metadata": {},
   "outputs": [],
   "source": [
    "from math import factorial\n",
    "import matplotlib.pyplot as plt\n",
    "import numpy as np\n",
    "\n",
    "def offeredTraffic(calls_per_hour, hours_per_call): # A0\n",
    "    return calls_per_hour*hours_per_call\n",
    "\n",
    "def erlangB(n, A0):\n",
    "    denom = 0\n",
    "    for i in range(n+1):\n",
    "        denom += (A0**i)/(factorial(i))\n",
    "    E1 = ((A0**n)/factorial(n))/denom\n",
    "    return E1\n",
    "\n",
    "# def erlangC(n, A0):\n",
    "#     denom = ((A0**n)/factorial(n))*(n/(n-A0))\n",
    "#     for i in range(n):\n",
    "#         denom += (A0**i)/factorial(i)\n",
    "#     return ((A0**n)/factorial(n))*(n/(n-A0))/denom\n",
    "def erlangC(n, A0):\n",
    "    denomSum = 0\n",
    "    for i in range(n):\n",
    "        denomSum += (A0**i)/factorial(i)\n",
    "    denom = A0**n + factorial(n)*(1-A0/n)*denomSum\n",
    "    return (A0**n)/denom\n",
    "\n",
    "def meanCallDelay(n, A0, meanCallDuration, probDelay):\n",
    "    return probDelay*meanCallDuration/(n-A0)\n",
    "\n",
    "def meanQueuedDelay(n, A0, meanCallDuration):\n",
    "    return meanCallDuration/(n-A0)\n",
    "\n",
    "    \n",
    "# def erlangC_GOS():\n",
    "\n"
   ]
  },
  {
   "cell_type": "code",
   "execution_count": null,
   "metadata": {
    "tags": []
   },
   "outputs": [],
   "source": [
    "def trafficSimulation(numChannels, numCalls, meanCallDuration, requeue=False):\n",
    "\n",
    "    callDurations = np.random.exponential(scale=meanCallDuration, size=numCalls)\n",
    "    callStarts = np.random.uniform(size=numCalls)\n",
    "    \n",
    "    callStarts.sort()\n",
    "    \n",
    "    # Calls = Numpy array of [[call0_start call0_end]; [call1_start call1_end];...\n",
    "    calls = np.stack((callStarts, np.add(callStarts,callDurations)),axis=1)\n",
    "\n",
    "    channelFreeTimes = np.zeros(numChannels)\n",
    "    \n",
    "    time = 0\n",
    "    callsFailed = 0\n",
    "    for i, call in enumerate(calls):\n",
    "        time = call[0]\n",
    "        channelFound = False\n",
    "        for j in range(numChannels):\n",
    "            if not(channelFound):\n",
    "                if channelFreeTimes[j] < time:\n",
    "                    # print(\"Time:\", time)\n",
    "                    # print(\"channelFreeTimes\", channelFreeTimes)\n",
    "                    # print(\"Channel {} free. Adding call time {}\".format(j, call[1]))\n",
    "                    channelFreeTimes[j] = call[1]\n",
    "                    channelFound = True\n",
    "        if channelFound == False:\n",
    "            callsFailed += 1\n",
    "            # print(\"Call {} ({}) failed.\\n\".format(i,call))\n",
    "            # if requeue:\n",
    "\n",
    "\n",
    "    return callsFailed/numCalls, callsFailed\n"
   ]
  },
  {
   "cell_type": "code",
   "execution_count": null,
   "metadata": {},
   "outputs": [],
   "source": [
    "meanCallDuration = 180/3600 # 3 mins in hrs\n",
    "n = 11\n",
    "\n",
    "minNumCalls = 1\n",
    "maxNumCalls = 2000\n",
    "numTests = 21\n",
    "# simulationCallAmounts = np.concatenate((np.linspace(minNumCalls, maxNumCalls, numTests), np.linspace(2500, 6000, 8))).astype(np.int)\n",
    "# simulationCallAmounts = np.linspace(100, 2000, 20).astype(np.int)\n",
    "simulationCallAmounts = np.linspace(200, 200, 1).astype(np.int)\n",
    "\n",
    "erlangBs = np.zeros(simulationCallAmounts.shape)\n",
    "erlangCs = np.zeros(simulationCallAmounts.shape)\n",
    "GOS_simulated = np.zeros(simulationCallAmounts.shape)\n",
    "\n",
    "repetitionsPerSimulation = 10\n",
    "print(simulationCallAmounts)"
   ]
  },
  {
   "cell_type": "code",
   "execution_count": null,
   "metadata": {
    "tags": []
   },
   "outputs": [],
   "source": [
    "for i, numCalls in enumerate(simulationCallAmounts):\n",
    "    # print(\"{} - For {} calls in a network with {} channels:\".format(i, numCalls, n))\n",
    "    A0 = offeredTraffic(numCalls, meanCallDuration)\n",
    "    erlangBs[i] = erlangB(n, A0)*100\n",
    "    erlangCs[i] = erlangC(n, A0)*100\n",
    "    # print(\"Erlang B = {}\".format(GOS_erlang[i]))\n",
    "\n",
    "    totalFailRate, totalFailCount = 0, 0\n",
    "    for j in range(repetitionsPerSimulation):\n",
    "        failRate, failsCount = trafficSimulation(n, numCalls, meanCallDuration)\n",
    "        totalFailRate += failRate\n",
    "        totalFailCount += failsCount\n",
    "    meanFailRate = totalFailRate/repetitionsPerSimulation\n",
    "    meanFailCount = totalFailCount/repetitionsPerSimulation\n",
    "    GOS_simulated[i] = meanFailRate*100\n",
    "    # print(\"Call fail rate in {} simulations = {}% (mean of {} fails in {} calls)\\n\".format(repetitionsPerSimulation, GOS_simulated[i], meanFailCount, numCalls))\n",
    "\n",
    "print(\"# Calls:\\tErlang B:\\tErlang C:\\tSimulation:\")\n",
    "for i, numCalls in enumerate(simulationCallAmounts):\n",
    "    print(\"{}\\t\\t{:.3f}\\t\\t{:.3f}\\t\\t{:.3f}\".format(numCalls,erlangBs[i], erlangCs[i], GOS_simulated[i]))"
   ]
  },
  {
   "cell_type": "code",
   "execution_count": null,
   "metadata": {},
   "outputs": [],
   "source": [
    "# print(\"Erlang B:\\t\\t\\t Simulation:\")\n",
    "# for i, numCalls in enumerate(simulationCallAmounts):\n",
    "#     print(GOS_erlang[i], \"\\t\\t\", GOS_simulated[i])\n",
    "\n",
    "plt.plot(simulationCallAmounts, erlangBs, label='Erlang B')\n",
    "plt.plot(simulationCallAmounts, np.clip(erlangCs,0,100), label='Erlang C')\n",
    "plt.plot(simulationCallAmounts, GOS_simulated, label='Exponential')\n",
    "plt.xlabel('Number of calls')\n",
    "plt.ylabel('Grade Of Service (%)')\n",
    "plt.title(\"GOS vs number of calls made\")\n",
    "plt.legend()\n",
    "plt.show()"
   ]
  },
  {
   "cell_type": "code",
   "execution_count": null,
   "metadata": {},
   "outputs": [],
   "source": []
  }
 ]
}