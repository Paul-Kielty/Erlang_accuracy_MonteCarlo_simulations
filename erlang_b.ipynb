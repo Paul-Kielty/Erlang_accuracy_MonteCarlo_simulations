{
 "metadata": {
  "language_info": {
   "codemirror_mode": {
    "name": "ipython",
    "version": 3
   },
   "file_extension": ".py",
   "mimetype": "text/x-python",
   "name": "python",
   "nbconvert_exporter": "python",
   "pygments_lexer": "ipython3",
   "version": "3.8.6-final"
  },
  "orig_nbformat": 2,
  "kernelspec": {
   "name": "python3",
   "display_name": "Python 3",
   "language": "python"
  }
 },
 "nbformat": 4,
 "nbformat_minor": 2,
 "cells": [
  {
   "cell_type": "code",
   "execution_count": null,
   "metadata": {},
   "outputs": [],
   "source": [
    "from math import factorial\n",
    "import matplotlib.pyplot as plt\n",
    "import numpy as np\n",
    "\n",
    "def offeredTraffic(calls_per_hour, hours_per_call): # A0\n",
    "    return calls_per_hour*hours_per_call\n",
    "\n",
    "def calc_erlangb(n, A0):\n",
    "    denom = 0\n",
    "    for i in range(n+1):\n",
    "        denom += (A0**i)/(factorial(i))\n",
    "    E1 = ((A0**n)/factorial(n))/denom\n",
    "    return E1"
   ]
  },
  {
   "cell_type": "code",
   "execution_count": null,
   "metadata": {
    "tags": []
   },
   "outputs": [],
   "source": [
    "def trafficSimulation(n_channels, numCalls, meanCallDuration):\n",
    "\n",
    "    callDurations = np.random.exponential(scale=meanCallDuration, size=numCalls)\n",
    "    callStarts = np.random.uniform(size=numCalls)\n",
    "    \n",
    "    callStarts.sort()\n",
    "    \n",
    "    # Calls = Numpy array of [[call0_start call0_end]; [call1_start call1_end];...\n",
    "    calls = np.stack((callStarts, np.add(callStarts,callDurations)),axis=1)\n",
    "\n",
    "    channelFreeTimes = np.zeros(n_channels)\n",
    "    \n",
    "    time = 0\n",
    "    callsFailed = 0\n",
    "    for i, call in enumerate(calls):\n",
    "        time = call[0]\n",
    "        channelFound = False\n",
    "        for j in range(n_channels):\n",
    "            if not(channelFound):\n",
    "                if channelFreeTimes[j] < time:\n",
    "                    # print(\"Time:\", time)\n",
    "                    # print(\"channelFreeTimes\", channelFreeTimes)\n",
    "                    # print(\"Channel {} free. Adding call time {}\".format(j, call[1]))\n",
    "                    channelFreeTimes[j] = call[1]\n",
    "                    channelFound = True\n",
    "        if channelFound == False:\n",
    "            callsFailed += 1\n",
    "            # print(\"Call {} ({}) failed.\\n\".format(i,call))\n",
    "\n",
    "    return callsFailed/numCalls, callsFailed\n"
   ]
  },
  {
   "cell_type": "code",
   "execution_count": null,
   "metadata": {},
   "outputs": [],
   "source": [
    "meanCallDuration = 195/3600 # 3 mins in hrs\n",
    "n = 54\n",
    "\n",
    "minNumCalls = 1\n",
    "maxNumCalls = 2000\n",
    "numTests = 21\n",
    "simulationCallAmounts = np.concatenate((np.linspace(minNumCalls, maxNumCalls, numTests), np.linspace(2500, 6000, 8))).astype(np.int)\n",
    "# simulationCallAmounts = np.linspace(100, 2000, 20).astype(np.int)\n",
    "# simulationCallAmounts = np.linspace(10,10, 1).astype(np.int)\n",
    "\n",
    "GOS_erlang = np.zeros(simulationCallAmounts.shape)\n",
    "GOS_simulated = np.zeros(simulationCallAmounts.shape)\n",
    "\n",
    "repetitionsPerSimulation = 10\n",
    "print(simulationCallAmounts)"
   ]
  },
  {
   "cell_type": "code",
   "execution_count": null,
   "metadata": {
    "tags": []
   },
   "outputs": [],
   "source": [
    "for i, numCalls in enumerate(simulationCallAmounts):\n",
    "    # print(\"{} - For {} calls in a network with {} channels:\".format(i, numCalls, n))\n",
    "    erlangb = calc_erlangb(n, offeredTraffic(numCalls, meanCallDuration))\n",
    "    GOS_erlang[i] = erlangb*100\n",
    "    # print(\"Erlang B = {}\".format(GOS_erlang[i]))\n",
    "\n",
    "    totalFailRate, totalFailCount = 0, 0\n",
    "    for j in range(repetitionsPerSimulation):\n",
    "        failRate, failsCount = trafficSimulation(n, numCalls, meanCallDuration)\n",
    "        totalFailRate += failRate\n",
    "        totalFailCount += failsCount\n",
    "    meanFailRate = totalFailRate/repetitionsPerSimulation\n",
    "    meanFailCount = totalFailCount/repetitionsPerSimulation\n",
    "    GOS_simulated[i] = meanFailRate*100\n",
    "    # print(\"Call fail rate in {} simulations = {}% (mean of {} fails in {} calls)\\n\".format(repetitionsPerSimulation, GOS_simulated[i], meanFailCount, numCalls))\n",
    "\n",
    "print(\"Erlang B:\\t\\t\\t Simulation:\")\n",
    "for i, numCalls in enumerate(simulationCallAmounts):\n",
    "    print(GOS_erlang[i], \"\\t\\t\", GOS_simulated[i])"
   ]
  },
  {
   "cell_type": "code",
   "execution_count": null,
   "metadata": {},
   "outputs": [],
   "source": [
    "# print(\"Erlang B:\\t\\t\\t Simulation:\")\n",
    "# for i, numCalls in enumerate(simulationCallAmounts):\n",
    "#     print(GOS_erlang[i], \"\\t\\t\", GOS_simulated[i])\n",
    "\n",
    "plt.plot(simulationCallAmounts, GOS_erlang, label='Erlang B')\n",
    "plt.plot(simulationCallAmounts, GOS_simulated, label='Exponential')\n",
    "plt.xlabel('Number of calls')\n",
    "plt.ylabel('Grade Of Service (%)')\n",
    "plt.title(\"GOS vs number of calls made\")\n",
    "plt.legend()\n",
    "plt.show()"
   ]
  },
  {
   "cell_type": "code",
   "execution_count": null,
   "metadata": {},
   "outputs": [],
   "source": []
  }
 ]
}