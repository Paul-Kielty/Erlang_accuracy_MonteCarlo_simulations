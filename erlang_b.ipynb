{
 "metadata": {
  "language_info": {
   "codemirror_mode": {
    "name": "ipython",
    "version": 3
   },
   "file_extension": ".py",
   "mimetype": "text/x-python",
   "name": "python",
   "nbconvert_exporter": "python",
   "pygments_lexer": "ipython3",
   "version": "3.8.6-final"
  },
  "orig_nbformat": 2,
  "kernelspec": {
   "name": "python3",
   "display_name": "Python 3"
  }
 },
 "nbformat": 4,
 "nbformat_minor": 2,
 "cells": [
  {
   "cell_type": "code",
   "execution_count": 1,
   "metadata": {},
   "outputs": [],
   "source": [
    "from math import factorial\n",
    "import matplotlib.pyplot as plt\n",
    "import numpy as np\n",
    "\n",
    "def offeredTraffic(calls_per_hour, hours_per_call): # A0\n",
    "    return calls_per_hour*hours_per_call\n",
    "\n",
    "def erlangb(n, A0):\n",
    "    denom = 0\n",
    "    for i in range(n):\n",
    "        denom += (A0**i)/(factorial(i))\n",
    "    E1 = (A0**n)/(factorial(n))/denom\n",
    "    return E1"
   ]
  },
  {
   "cell_type": "code",
   "execution_count": 2,
   "metadata": {
    "tags": []
   },
   "outputs": [],
   "source": [
    "def trafficSimulation(n, numCalls, meanCallDuration):\n",
    "\n",
    "    callDurations = np.random.exponential(scale=meanCallDuration, size=numCalls)\n",
    "    # print(\"Mean call duration =\",callDurations.mean())\n",
    "    # plt.hist(callDurations, bins=numCalls//10)\n",
    "    # plt.title(\"Call duration frequency\")\n",
    "    # plt.ylabel=(\"frequency\")\n",
    "    # plt.show()\n",
    "\n",
    "    callStarts = np.random.uniform(size=numCalls)\n",
    "    # plt.hist(callStarts, bins=numCalls//10)\n",
    "    # plt.show()\n",
    "    callStarts.sort()\n",
    "\n",
    "    # Calls = Numpy array of [[call0_start call0_end]; [call1_start call1_end];...\n",
    "    calls = np.stack((callStarts, np.add(callStarts,callDurations)),axis=1)\n",
    "\n",
    "    # plt.hist(load, bins=1000)\n",
    "    # plt.plot(calls)\n",
    "    # plt.show()\n",
    "    \n",
    "    channels = np.zeros(n)\n",
    "    \n",
    "    time = 0\n",
    "    callsSucceeded = 0\n",
    "    for i, call in enumerate(calls):\n",
    "        time = call[0]\n",
    "        channelFound = False\n",
    "        for j in range(n):\n",
    "            if not(channelFound):\n",
    "                if channels[j] < time:\n",
    "                    # print(j,\"used\")\n",
    "                    # print(\"Channel {} free. Adding call time {}\".format(j, call[1]))\n",
    "                    channels[j] = call[1]\n",
    "                    channelFound = True\n",
    "        if channelFound:\n",
    "            callsSucceeded += 1\n",
    "        # else:\n",
    "        #     print(\"Call {} failed.\".format(i))\n",
    "    # print(time, call, channels)\n",
    "    callsFailed = numCalls - callsSucceeded\n",
    "    # print(\"{}% of calls failed ({} succeeded, {} failed).\".format(100*callsFailed/numCalls, callsSucceeded, callsFailed))\n",
    "    return callsFailed/numCalls, callsFailed\n"
   ]
  },
  {
   "cell_type": "code",
   "execution_count": 3,
   "metadata": {},
   "outputs": [
    {
     "output_type": "stream",
     "name": "stdout",
     "text": [
      "Erlang B = 4.799001082656985\n",
      "Call fail rate in 100 simulations = 3.841999999999999% (mean of 38.42 fails in 1000 calls)\n"
     ]
    }
   ],
   "source": [
    "meanCallDuration = 3/60 # 3 mins in hrs\n",
    "n = 56\n",
    "numCalls = 1000\n",
    "repetitions = 100\n",
    "# steps:\n",
    "print(\"Erlang B = {}\".format(100*erlangb(n, offeredTraffic(numCalls, meanCallDuration))))\n",
    "fail_rate, fails = 0,0\n",
    "for i in range(repetitions):\n",
    "    new_acc, new_fails = trafficSimulation(n, numCalls, meanCallDuration)\n",
    "    fail_rate += new_acc\n",
    "    fails += new_fails\n",
    "\n",
    "print(\"Call fail rate in 100 simulations = {}% (mean of {} fails in {} calls)\".format(100*fail_rate/repetitions, fails/100, numCalls))\n",
    "\n"
   ]
  },
  {
   "cell_type": "code",
   "execution_count": null,
   "metadata": {},
   "outputs": [],
   "source": []
  }
 ]
}